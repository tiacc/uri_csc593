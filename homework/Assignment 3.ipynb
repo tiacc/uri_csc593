{
 "cells": [
  {
   "cell_type": "markdown",
   "metadata": {},
   "source": [
    "# Assignment 3\n",
    "\n",
    "*(Due Saturday, October 5, 2019 at noon.)*"
   ]
  },
  {
   "cell_type": "code",
   "execution_count": 1,
   "metadata": {},
   "outputs": [],
   "source": [
    "xml = \"\"\"\n",
    "<data>\n",
    "    <citation><author> T. Fahringer, R. Blasko, and H. Zima. </author> <title> Automatic performance prediction to support parallelization of Fortran programs for massively parallel systems. </title> <booktitle> In Proceedings of the 1992 ACM International Conference on Supercomputing, </booktitle> <location> Washington, DC, </location> <date> July 1992. </date></citation>\n",
    "    <citation><author> A. D. Kallis and D. Klappholz, </author> <title> ``Reaching definitions analysis on code containing array references,'' </title> <booktitle> Conf. Rec. of the 4th Workshop on Languages and Compilers for Parallel Computing, </booktitle> <date> Aug. 1991. </date></citation>\n",
    "    <citation><author> R. Fletcher. </author> <title> Practical Methods of Optimization. </title> <publisher> John Wiley &amp; Sons, </publisher> <date> 1987. </date></citation>\n",
    "    <citation><author> Clark, K. L., </author> <title> Negation as Failure, </title> <editor> in: H. Gallaire and J. Minker (eds.), </editor> <booktitle> Logic and Data Bases, </booktitle> <publisher> Plenum Press, </publisher> <location> New York, </location> <date> 1978. </date></citation>\n",
    "    <citation><author> Gent, I. P., &amp; Walsh, T. </author> <date> (1994a). </date> <title> Easy problems are sometimes hard. </title> <journal> Artificial Intelligence, </journal> <volume> 70, </volume> <pages> 335-345. </pages></citation>\n",
    "</data>\n",
    "\"\"\""
   ]
  },
  {
   "cell_type": "markdown",
   "metadata": {},
   "source": [
    "### Task\n",
    "\n",
    "Copy your `Citation` class here from your class notes, then: \n"
   ]
  },
  {
   "cell_type": "code",
   "execution_count": 2,
   "metadata": {},
   "outputs": [],
   "source": [
    "class Citation:\n",
    "    def __init__(self, details):\n",
    "        self.author = details['author']\n",
    "        self.title = details['title']\n",
    "        if 'journal' in details:\n",
    "            self.journal = details['journal']\n",
    "        else:\n",
    "            self.journal = None\n",
    "        if 'volume' in details:\n",
    "            self.volume = details['volume']\n",
    "        else:\n",
    "            self.volume = None\n",
    "        if 'number' in details:\n",
    "            self.number = details['number']\n",
    "        else:\n",
    "            self.number = None\n",
    "        if 'book_title' in details:\n",
    "            self.book_title = details['book_title']\n",
    "        else:\n",
    "            self.book_title = None\n",
    "        if 'date' in details:\n",
    "            self.date = details['date']\n",
    "        else:\n",
    "            self.date = None\n",
    "    \n",
    "    def names(self):\n",
    "        return self.author.split(',')\n",
    "    \n",
    "    def complete(self):\n",
    "        outp = self.author + self.title\n",
    "        if self.journal:\n",
    "            outp += self.journal\n",
    "        if self.volume:\n",
    "            outp += self.volume\n",
    "        if self.number:\n",
    "            outp += self.number\n",
    "        if self.book_title:\n",
    "            outp += self.book_title\n",
    "        if self.date:\n",
    "            outp += self.date                            \n",
    "        print(outp)\n",
    "    "
   ]
  },
  {
   "cell_type": "markdown",
   "metadata": {},
   "source": [
    "1. Write a function that takes the XML above and outputs a list of `Citation` objects containing the data from the XML."
   ]
  },
  {
   "cell_type": "code",
   "execution_count": 3,
   "metadata": {},
   "outputs": [],
   "source": [
    "def xml_to_list(data):\n",
    "    import xml.etree.ElementTree as ET\n",
    "    root = ET.fromstring(data)\n",
    "    citations = []\n",
    "    new_citations = []\n",
    "    for citation in root:\n",
    "        cite = {}\n",
    "        cite['author'] = citation.find('author').text\n",
    "        cite['title'] = citation.find('title').text\n",
    "        book_title = citation.find('booktitle')\n",
    "        journal = citation.find('journal')\n",
    "        volume = citation.find('volume')\n",
    "        date = citation.find('date')\n",
    "        number = citation.find('number')\n",
    "        if book_title != None:\n",
    "            cite['book_title'] = book_title.text\n",
    "        if journal != None:\n",
    "            cite['journal'] = journal.text\n",
    "        if volume != None:\n",
    "            cite['volume'] = volume.text\n",
    "        if number != None:\n",
    "            cite['number'] = number.text\n",
    "        if date != None:\n",
    "            cite['date'] = date.text\n",
    "        citations.append(cite)\n",
    "    for c in citations:\n",
    "        c = Citation(c)\n",
    "        new_citations.append(c)\n",
    "    return new_citations\n"
   ]
  },
  {
   "cell_type": "markdown",
   "metadata": {},
   "source": [
    "2. Run the function, loop over the `Citation`s, and prints the output of each one's `complete()` method."
   ]
  },
  {
   "cell_type": "code",
   "execution_count": 4,
   "metadata": {},
   "outputs": [
    {
     "name": "stdout",
     "output_type": "stream",
     "text": [
      " T. Fahringer, R. Blasko, and H. Zima.  Automatic performance prediction to support parallelization of Fortran programs for massively parallel systems.  In Proceedings of the 1992 ACM International Conference on Supercomputing,  July 1992. \n",
      " A. D. Kallis and D. Klappholz,  ``Reaching definitions analysis on code containing array references,''  Conf. Rec. of the 4th Workshop on Languages and Compilers for Parallel Computing,  Aug. 1991. \n",
      " R. Fletcher.  Practical Methods of Optimization.  1987. \n",
      " Clark, K. L.,  Negation as Failure,  Logic and Data Bases,  1978. \n",
      " Gent, I. P., & Walsh, T.  Easy problems are sometimes hard.  Artificial Intelligence,  70,  (1994a). \n"
     ]
    }
   ],
   "source": [
    "Citations = xml_to_list(xml)\n",
    "for cit in Citations:\n",
    "    cit.complete()"
   ]
  },
  {
   "cell_type": "markdown",
   "metadata": {},
   "source": [
    "### Reading for next week\n",
    "\n",
    "Read these sections on learnpython.org...  \n",
    "1. [List Comprehensions](https://www.learnpython.org/en/List_Comprehensions)\n",
    "2. [Multiple Function Arguments](https://www.learnpython.org/en/Multiple_Function_Arguments)\n",
    "\n",
    "Or these sections of The Python Tutorial.\n",
    "1. [5.1.3 and 5.1.4](https://docs.python.org/3/tutorial/datastructures.html#list-comprehensions)\n",
    "1. [4.7](https://docs.python.org/3/tutorial/controlflow.html#more-on-defining-functions)"
   ]
  }
 ],
 "metadata": {
  "kernelspec": {
   "display_name": "Python 3",
   "language": "python",
   "name": "python3"
  },
  "language_info": {
   "codemirror_mode": {
    "name": "ipython",
    "version": 3
   },
   "file_extension": ".py",
   "mimetype": "text/x-python",
   "name": "python",
   "nbconvert_exporter": "python",
   "pygments_lexer": "ipython3",
   "version": "3.7.3"
  }
 },
 "nbformat": 4,
 "nbformat_minor": 2
}
