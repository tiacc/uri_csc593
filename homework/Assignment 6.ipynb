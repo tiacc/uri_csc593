{
 "cells": [
  {
   "cell_type": "markdown",
   "metadata": {},
   "source": [
    "# Assignment 6\n",
    "\n",
    "*(Due Saturday, October 26, 2019 at noon.)*"
   ]
  },
  {
   "cell_type": "markdown",
   "metadata": {},
   "source": [
    "**1)** Below, paste the code needed to import and clean your file from the `../dataset` directory in your repository, then save the result to a new file. I should be able to run the code in this notebook and get my own copy of your cleaned, processed data.\n",
    "\n",
    "**Note:** Your assignment file will be publicly accessible on Github. If your dataset is private, don't print anything confidential in this assignment. "
   ]
  },
  {
   "cell_type": "code",
   "execution_count": 1,
   "metadata": {},
   "outputs": [],
   "source": [
    "import numpy as np\n",
    "import pandas as pd"
   ]
  },
  {
   "cell_type": "code",
   "execution_count": 2,
   "metadata": {},
   "outputs": [
    {
     "name": "stderr",
     "output_type": "stream",
     "text": [
      "C:\\Users\\Rachel\\Anaconda3\\lib\\site-packages\\IPython\\core\\interactiveshell.py:3057: DtypeWarning: Columns (113,114,116,121,123,124,125,132,134,149,156,160,164,165,167,175,185,193,200,204,217,218,219,220,221,222,223,224,225,226,227,243,247,248,249,250,251,252,253,254,297,299,301,302,303,304,306,307,308,309,310,311,312,313,314,315,316,317,318,346,347,348,349,351,355,356,357,358,359,360,361,393,394,395,396,397,413,414,415,416,418,419,438,440,444,445,446,447,448,449,450,461,462,463,487,488,489,491,509,510,511,512,513,514) have mixed types. Specify dtype option on import or set low_memory=False.\n",
      "  interactivity=interactivity, compiler=compiler, result=result)\n"
     ]
    }
   ],
   "source": [
    "dataset = pd.read_csv('../dataset.csv')"
   ]
  },
  {
   "cell_type": "code",
   "execution_count": 3,
   "metadata": {},
   "outputs": [],
   "source": [
    "#1) choose the subjects whose 'performerRelation' is patient;  \n",
    "dataset = dataset.loc[dataset['performerRelation'] == 'patient']"
   ]
  },
  {
   "cell_type": "code",
   "execution_count": 4,
   "metadata": {},
   "outputs": [],
   "source": [
    "#2) calculate the subjects' age based on their birth year and select the subjects older than 18;  \n",
    "dataset['subjectAge'] = 2017 - dataset['subjectBirthYear']\n",
    "dataset = dataset.loc[dataset['subjectAge'] >= 18]"
   ]
  },
  {
   "cell_type": "code",
   "execution_count": 5,
   "metadata": {},
   "outputs": [],
   "source": [
    "#3) select the columns that are related to CAMS measurement as well as columns about relevant demographics\n",
    "dataset_CAMS = dataset.iloc[:,np.r_[1:9,14:33,110:113,115,116,119:124, 126, 129:135, 137:141, 144, 146:154, 157, 159:165,167:176,179:184, 186:206,515]]"
   ]
  },
  {
   "cell_type": "code",
   "execution_count": 6,
   "metadata": {},
   "outputs": [
    {
     "name": "stderr",
     "output_type": "stream",
     "text": [
      "C:\\Users\\Rachel\\Anaconda3\\lib\\site-packages\\pandas\\core\\indexing.py:543: SettingWithCopyWarning: \n",
      "A value is trying to be set on a copy of a slice from a DataFrame.\n",
      "Try using .loc[row_indexer,col_indexer] = value instead\n",
      "\n",
      "See the caveats in the documentation: http://pandas.pydata.org/pandas-docs/stable/indexing.html#indexing-view-versus-copy\n",
      "  self.obj[item] = s\n"
     ]
    }
   ],
   "source": [
    "#4) Remove rows where all values are `NaN`.\n",
    "dataset_CAMS.iloc[:,8:98] = dataset_CAMS.iloc[:,8:98].dropna(how='all')"
   ]
  },
  {
   "cell_type": "code",
   "execution_count": 7,
   "metadata": {},
   "outputs": [],
   "source": [
    "#Save your file (change the name if necessary).\n",
    "dataset_CAMS.to_csv('../dataset/ds.csv')"
   ]
  },
  {
   "cell_type": "markdown",
   "metadata": {},
   "source": [
    "**2)** A brief survey: Have you taken an introductory statistics course, and if so, do you remember much from it? For example,\n",
    "\n",
    "* Can you articulate the null hypotheses for the questions you formulated last week involving your data? \n",
    "* Do you know what a t-test is for?\n",
    "* Do you know what a *p* value represents?\n",
    "* Do you know what standard deviation is, and how it's calculated?"
   ]
  },
  {
   "cell_type": "markdown",
   "metadata": {},
   "source": [
    "Yes, I majored in Applied Mathematics for my undergraduate degree so I have taken intro to statistics as well as some advanced statistics courses. \n",
    "* Question 1: Null hypothesis: People with hgher levels of anxiety don't have more concerns on their substance use.  \n",
    "  Question 2: Null hypothesis: There is not a significant correlation between patients' feedbacks and their diagnosis over time.  \n",
    "  Question 3: For this question, I plan to use a generalized linear mixed model to predict the suicidal ideation. So the null hypotheses for this question are related to the parameters of the fixed or random effects, which is there is not a significant effect of the fixed/random effect on the dependent variable--suicidal ideation.  \n",
    "* A t-test is a group difference test to detect the differences of a continuous variable between two groups. \n",
    "* When we're testing hypothesis, p-value is used to determine the statistical significance of our results.It represents the probability of accepting the null hypothesis. \n",
    "* Standard deviation is used to measure the variation of a data set. $\\sigma =\\sqrt\\frac{\\sum_{i=1}^{N}(x_i - \\mu)}{N}$"
   ]
  },
  {
   "cell_type": "markdown",
   "metadata": {},
   "source": [
    "#### Submitting\n",
    "\n",
    "In the Terminal (Mac) or Git Bash (Windows):\n",
    "\n",
    "`git commit -a -m 'Assignment 6 completed'`  \n",
    "`git push`"
   ]
  },
  {
   "cell_type": "markdown",
   "metadata": {},
   "source": [
    "### Reading\n",
    "\n",
    "1. [_Python for Data Analysis_](https://uri-primo.hosted.exlibrisgroup.com/permalink/f/10nopmq/01URI_ALMA51209454630002396):\n",
    "    * Section 7.3\n",
    "    * Chapter 10"
   ]
  }
 ],
 "metadata": {
  "kernelspec": {
   "display_name": "Python 3",
   "language": "python",
   "name": "python3"
  },
  "language_info": {
   "codemirror_mode": {
    "name": "ipython",
    "version": 3
   },
   "file_extension": ".py",
   "mimetype": "text/x-python",
   "name": "python",
   "nbconvert_exporter": "python",
   "pygments_lexer": "ipython3",
   "version": "3.7.3"
  }
 },
 "nbformat": 4,
 "nbformat_minor": 2
}
