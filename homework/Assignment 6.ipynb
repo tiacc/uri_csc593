{
 "cells": [
  {
   "cell_type": "markdown",
   "metadata": {},
   "source": [
    "# Assignment 6\n",
    "\n",
    "*(Due Saturday, October 26, 2019 at noon.)*"
   ]
  },
  {
   "cell_type": "markdown",
   "metadata": {},
   "source": [
    "**1)** Below, paste the code needed to import and clean your file from the `../dataset` directory in your repository, then save the result to a new file. I should be able to run the code in this notebook and get my own copy of your cleaned, processed data.\n",
    "\n",
    "**Note:** Your assignment file will be publicly accessible on Github. If your dataset is private, don't print anything confidential in this assignment. "
   ]
  },
  {
   "cell_type": "code",
   "execution_count": 2,
   "metadata": {},
   "outputs": [],
   "source": [
    "import numpy as np\n",
    "import pandas as pd"
   ]
  },
  {
   "cell_type": "code",
   "execution_count": 3,
   "metadata": {},
   "outputs": [
    {
     "name": "stderr",
     "output_type": "stream",
     "text": [
      "C:\\Users\\Rachel\\Anaconda3\\lib\\site-packages\\IPython\\core\\interactiveshell.py:3057: DtypeWarning: Columns (11,67,68,69,71,73,74,75,76,81,83,84,85,86,87,89,90,91,97,98,100,101,102,255,256,257,258,259,260,261,262,263,264,265,266,267,268,269,271,272,273,274,275,276) have mixed types. Specify dtype option on import or set low_memory=False.\n",
      "  interactivity=interactivity, compiler=compiler, result=result)\n"
     ]
    }
   ],
   "source": [
    "dataset = pd.read_csv('../dataset.csv')"
   ]
  },
  {
   "cell_type": "code",
   "execution_count": 4,
   "metadata": {},
   "outputs": [],
   "source": [
    "#1) choose the subjects whose 'performerRelation' is patient;  \n",
    "dataset = dataset[dataset['performerRelation'] == 'patient']"
   ]
  },
  {
   "cell_type": "code",
   "execution_count": 5,
   "metadata": {},
   "outputs": [],
   "source": [
    "#2) calculate the subjects' age based on their birth year and select the subjects older than 18;  \n",
    "dataset['subjectAge'] = 2017 - dataset['subjectBirthYear']\n",
    "dataset = dataset[dataset['subjectAge'] >= 18]"
   ]
  },
  {
   "cell_type": "code",
   "execution_count": 6,
   "metadata": {},
   "outputs": [],
   "source": [
    "#3) select the columns that are related to CAMS measurement as well as columns about relevant demographics\n",
    "dataset_CAMS = dataset.iloc[:,np.r_[1:9,14:33,110:113,115,116,119:124, 126, 129:135, 137:141, 144, 146:154, 157, 159:165,167:176,179:184, 186:206,515]]"
   ]
  },
  {
   "cell_type": "code",
   "execution_count": 8,
   "metadata": {},
   "outputs": [
    {
     "name": "stderr",
     "output_type": "stream",
     "text": [
      "C:\\Users\\Rachel\\Anaconda3\\lib\\site-packages\\pandas\\core\\indexing.py:543: SettingWithCopyWarning: \n",
      "A value is trying to be set on a copy of a slice from a DataFrame.\n",
      "Try using .loc[row_indexer,col_indexer] = value instead\n",
      "\n",
      "See the caveats in the documentation: http://pandas.pydata.org/pandas-docs/stable/indexing.html#indexing-view-versus-copy\n",
      "  self.obj[item] = s\n"
     ]
    }
   ],
   "source": [
    "#4) Remove rows where all values are `NaN`.\n",
    "dataset_CAMS.iloc[:,8:97] = dataset_CAMS.iloc[:,8:97].dropna(how='all')"
   ]
  },
  {
   "cell_type": "code",
   "execution_count": 9,
   "metadata": {},
   "outputs": [
    {
     "data": {
      "text/html": [
       "<div>\n",
       "<style scoped>\n",
       "    .dataframe tbody tr th:only-of-type {\n",
       "        vertical-align: middle;\n",
       "    }\n",
       "\n",
       "    .dataframe tbody tr th {\n",
       "        vertical-align: top;\n",
       "    }\n",
       "\n",
       "    .dataframe thead th {\n",
       "        text-align: right;\n",
       "    }\n",
       "</style>\n",
       "<table border=\"1\" class=\"dataframe\">\n",
       "  <thead>\n",
       "    <tr style=\"text-align: right;\">\n",
       "      <th></th>\n",
       "      <th>questionnaireStatus</th>\n",
       "      <th>subjectGender</th>\n",
       "      <th>subjectBirthYear</th>\n",
       "      <th>subjectMirahId</th>\n",
       "      <th>appointmentDate</th>\n",
       "      <th>begunDate</th>\n",
       "      <th>completionDate</th>\n",
       "      <th>performerRelation</th>\n",
       "      <th>attachment.raw</th>\n",
       "      <th>avoidance.raw</th>\n",
       "      <th>...</th>\n",
       "      <th>breathRacingOrNumbness</th>\n",
       "      <th>concernedDrugDependent</th>\n",
       "      <th>othersConcernedDrugUse</th>\n",
       "      <th>drugUseInterferes</th>\n",
       "      <th>needToReduceDrugUse</th>\n",
       "      <th>betterOffDead</th>\n",
       "      <th>thoughtsOfSuicide</th>\n",
       "      <th>fearLoseControlSuicide</th>\n",
       "      <th>plansForHowSuicide</th>\n",
       "      <th>subjectAge</th>\n",
       "    </tr>\n",
       "  </thead>\n",
       "  <tbody>\n",
       "    <tr>\n",
       "      <th>0</th>\n",
       "      <td>complete</td>\n",
       "      <td>F</td>\n",
       "      <td>1966</td>\n",
       "      <td>00035e35-fcd6-4aaa-9b85-b002997c505f</td>\n",
       "      <td>2018-03-01 21:15:00 UTC</td>\n",
       "      <td>2018-03-01 21:24:01 UTC</td>\n",
       "      <td>2018-03-02 00:22:20 UTC</td>\n",
       "      <td>patient</td>\n",
       "      <td>7.00</td>\n",
       "      <td>7.0</td>\n",
       "      <td>...</td>\n",
       "      <td>NaN</td>\n",
       "      <td>NaN</td>\n",
       "      <td>NaN</td>\n",
       "      <td>1.0</td>\n",
       "      <td>1.0</td>\n",
       "      <td>1.0</td>\n",
       "      <td>NaN</td>\n",
       "      <td>1.0</td>\n",
       "      <td>NaN</td>\n",
       "      <td>51</td>\n",
       "    </tr>\n",
       "    <tr>\n",
       "      <th>1</th>\n",
       "      <td>complete</td>\n",
       "      <td>F</td>\n",
       "      <td>1966</td>\n",
       "      <td>00035e35-fcd6-4aaa-9b85-b002997c505f</td>\n",
       "      <td>2018-03-02 17:30:00 UTC</td>\n",
       "      <td>2018-03-02 17:42:51 UTC</td>\n",
       "      <td>2018-03-02 21:49:21 UTC</td>\n",
       "      <td>patient</td>\n",
       "      <td>NaN</td>\n",
       "      <td>NaN</td>\n",
       "      <td>...</td>\n",
       "      <td>NaN</td>\n",
       "      <td>NaN</td>\n",
       "      <td>NaN</td>\n",
       "      <td>NaN</td>\n",
       "      <td>NaN</td>\n",
       "      <td>NaN</td>\n",
       "      <td>NaN</td>\n",
       "      <td>NaN</td>\n",
       "      <td>NaN</td>\n",
       "      <td>51</td>\n",
       "    </tr>\n",
       "    <tr>\n",
       "      <th>2</th>\n",
       "      <td>complete</td>\n",
       "      <td>F</td>\n",
       "      <td>1966</td>\n",
       "      <td>00035e35-fcd6-4aaa-9b85-b002997c505f</td>\n",
       "      <td>2018-03-09 21:15:00 UTC</td>\n",
       "      <td>2018-03-09 21:07:59 UTC</td>\n",
       "      <td>2018-03-09 21:12:38 UTC</td>\n",
       "      <td>patient</td>\n",
       "      <td>NaN</td>\n",
       "      <td>NaN</td>\n",
       "      <td>...</td>\n",
       "      <td>NaN</td>\n",
       "      <td>NaN</td>\n",
       "      <td>NaN</td>\n",
       "      <td>NaN</td>\n",
       "      <td>NaN</td>\n",
       "      <td>NaN</td>\n",
       "      <td>NaN</td>\n",
       "      <td>NaN</td>\n",
       "      <td>NaN</td>\n",
       "      <td>51</td>\n",
       "    </tr>\n",
       "    <tr>\n",
       "      <th>3</th>\n",
       "      <td>complete</td>\n",
       "      <td>M</td>\n",
       "      <td>1990</td>\n",
       "      <td>0033c11d-8eb1-4ba9-b0d6-291b296108da</td>\n",
       "      <td>2017-08-24 01:00:00 UTC</td>\n",
       "      <td>2017-08-24 00:57:29 UTC</td>\n",
       "      <td>2017-08-24 01:09:20 UTC</td>\n",
       "      <td>patient</td>\n",
       "      <td>4.75</td>\n",
       "      <td>5.2</td>\n",
       "      <td>...</td>\n",
       "      <td>2.0</td>\n",
       "      <td>1.0</td>\n",
       "      <td>1.0</td>\n",
       "      <td>1.0</td>\n",
       "      <td>1.0</td>\n",
       "      <td>1.0</td>\n",
       "      <td>1.0</td>\n",
       "      <td>1.0</td>\n",
       "      <td>1.0</td>\n",
       "      <td>27</td>\n",
       "    </tr>\n",
       "    <tr>\n",
       "      <th>4</th>\n",
       "      <td>complete</td>\n",
       "      <td>M</td>\n",
       "      <td>1990</td>\n",
       "      <td>0033c11d-8eb1-4ba9-b0d6-291b296108da</td>\n",
       "      <td>2017-09-07 01:15:00 UTC</td>\n",
       "      <td>2017-09-07 01:36:30 UTC</td>\n",
       "      <td>2017-09-07 01:45:00 UTC</td>\n",
       "      <td>patient</td>\n",
       "      <td>4.00</td>\n",
       "      <td>2.8</td>\n",
       "      <td>...</td>\n",
       "      <td>2.0</td>\n",
       "      <td>1.0</td>\n",
       "      <td>NaN</td>\n",
       "      <td>NaN</td>\n",
       "      <td>NaN</td>\n",
       "      <td>1.0</td>\n",
       "      <td>1.0</td>\n",
       "      <td>1.0</td>\n",
       "      <td>1.0</td>\n",
       "      <td>27</td>\n",
       "    </tr>\n",
       "  </tbody>\n",
       "</table>\n",
       "<p>5 rows × 99 columns</p>\n",
       "</div>"
      ],
      "text/plain": [
       "  questionnaireStatus subjectGender  subjectBirthYear  \\\n",
       "0            complete             F              1966   \n",
       "1            complete             F              1966   \n",
       "2            complete             F              1966   \n",
       "3            complete             M              1990   \n",
       "4            complete             M              1990   \n",
       "\n",
       "                         subjectMirahId          appointmentDate  \\\n",
       "0  00035e35-fcd6-4aaa-9b85-b002997c505f  2018-03-01 21:15:00 UTC   \n",
       "1  00035e35-fcd6-4aaa-9b85-b002997c505f  2018-03-02 17:30:00 UTC   \n",
       "2  00035e35-fcd6-4aaa-9b85-b002997c505f  2018-03-09 21:15:00 UTC   \n",
       "3  0033c11d-8eb1-4ba9-b0d6-291b296108da  2017-08-24 01:00:00 UTC   \n",
       "4  0033c11d-8eb1-4ba9-b0d6-291b296108da  2017-09-07 01:15:00 UTC   \n",
       "\n",
       "                 begunDate           completionDate performerRelation  \\\n",
       "0  2018-03-01 21:24:01 UTC  2018-03-02 00:22:20 UTC           patient   \n",
       "1  2018-03-02 17:42:51 UTC  2018-03-02 21:49:21 UTC           patient   \n",
       "2  2018-03-09 21:07:59 UTC  2018-03-09 21:12:38 UTC           patient   \n",
       "3  2017-08-24 00:57:29 UTC  2017-08-24 01:09:20 UTC           patient   \n",
       "4  2017-09-07 01:36:30 UTC  2017-09-07 01:45:00 UTC           patient   \n",
       "\n",
       "   attachment.raw  avoidance.raw  ...  breathRacingOrNumbness  \\\n",
       "0            7.00            7.0  ...                     NaN   \n",
       "1             NaN            NaN  ...                     NaN   \n",
       "2             NaN            NaN  ...                     NaN   \n",
       "3            4.75            5.2  ...                     2.0   \n",
       "4            4.00            2.8  ...                     2.0   \n",
       "\n",
       "   concernedDrugDependent  othersConcernedDrugUse  drugUseInterferes  \\\n",
       "0                     NaN                     NaN                1.0   \n",
       "1                     NaN                     NaN                NaN   \n",
       "2                     NaN                     NaN                NaN   \n",
       "3                     1.0                     1.0                1.0   \n",
       "4                     1.0                     NaN                NaN   \n",
       "\n",
       "   needToReduceDrugUse  betterOffDead  thoughtsOfSuicide  \\\n",
       "0                  1.0            1.0                NaN   \n",
       "1                  NaN            NaN                NaN   \n",
       "2                  NaN            NaN                NaN   \n",
       "3                  1.0            1.0                1.0   \n",
       "4                  NaN            1.0                1.0   \n",
       "\n",
       "   fearLoseControlSuicide  plansForHowSuicide  subjectAge  \n",
       "0                     1.0                 NaN          51  \n",
       "1                     NaN                 NaN          51  \n",
       "2                     NaN                 NaN          51  \n",
       "3                     1.0                 1.0          27  \n",
       "4                     1.0                 1.0          27  \n",
       "\n",
       "[5 rows x 99 columns]"
      ]
     },
     "execution_count": 9,
     "metadata": {},
     "output_type": "execute_result"
    }
   ],
   "source": [
    "dataset_CAMS.head()"
   ]
  },
  {
   "cell_type": "code",
   "execution_count": 10,
   "metadata": {},
   "outputs": [],
   "source": [
    "#Save your file (change the name if necessary).\n",
    "dataset_CAMS.to_csv('../dataset/ds.csv')"
   ]
  },
  {
   "cell_type": "markdown",
   "metadata": {},
   "source": [
    "**2)** A brief survey: Have you taken an introductory statistics course, and if so, do you remember much from it? For example,\n",
    "\n",
    "* Can you articulate the null hypotheses for the questions you formulated last week involving your data? \n",
    "* Do you know what a t-test is for?\n",
    "* Do you know what a *p* value represents?\n",
    "* Do you know what standard deviation is, and how it's calculated?"
   ]
  },
  {
   "cell_type": "markdown",
   "metadata": {},
   "source": [
    "Yes, I majored in Applied Mathematics for my undergraduate degree so I have taken intro to statistics as well as some advanced statistics courses. \n",
    "* Question 1: Null hypothesis: People with hgher levels of anxiety don't have more concerns on their substance use.  \n",
    "  Question 2: Null hypothesis: There is not a significant correlation between patients' feedbacks and their diagnosis over time.  \n",
    "  Question 3: For this question, I plan to use a generalized linear mixed model to predict the suicidal ideation. So the null hypotheses for this question are related to the parameters of the fixed or random effects, which is there is not a significant effect of the fixed/random effect on the dependent variable--suicidal ideation.  \n",
    "* A t-test is a group difference test to detect the differences of a continuous variable between two groups. \n",
    "* When we're testing hypothesis, p-value is used to determine the statistical significance of our results.It represents the probability of accepting the null hypothesis. \n",
    "* Standard deviation is used to measure the variation of a data set. $\\sigma =\\sqrt\\frac{\\sum_{i=1}^{N}(x_i - \\mu)}{N}$"
   ]
  },
  {
   "cell_type": "markdown",
   "metadata": {},
   "source": [
    "#### Submitting\n",
    "\n",
    "In the Terminal (Mac) or Git Bash (Windows):\n",
    "\n",
    "`git commit -a -m 'Assignment 6 completed'`  \n",
    "`git push`"
   ]
  },
  {
   "cell_type": "markdown",
   "metadata": {},
   "source": [
    "### Reading\n",
    "\n",
    "1. [_Python for Data Analysis_](https://uri-primo.hosted.exlibrisgroup.com/permalink/f/10nopmq/01URI_ALMA51209454630002396):\n",
    "    * Section 7.3\n",
    "    * Chapter 10"
   ]
  }
 ],
 "metadata": {
  "kernelspec": {
   "display_name": "Python 3",
   "language": "python",
   "name": "python3"
  },
  "language_info": {
   "codemirror_mode": {
    "name": "ipython",
    "version": 3
   },
   "file_extension": ".py",
   "mimetype": "text/x-python",
   "name": "python",
   "nbconvert_exporter": "python",
   "pygments_lexer": "ipython3",
   "version": "3.7.3"
  }
 },
 "nbformat": 4,
 "nbformat_minor": 2
}
