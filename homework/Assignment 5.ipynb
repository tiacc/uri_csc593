{
 "cells": [
  {
   "cell_type": "markdown",
   "metadata": {},
   "source": [
    "# Assignment 5\n",
    "\n",
    "*(Due Saturday, October 19, 2019 at noon.)*"
   ]
  },
  {
   "cell_type": "markdown",
   "metadata": {},
   "source": [
    "#### 1) Describe steps needed to clean your dataset. Are there badly-formatted or missing values that will need to be handled? Are you working with multiple files that need to be merged? Do you need to create any new derived fields? Describe the steps you expect to take to clean your data and prepare it for analysis."
   ]
  },
  {
   "cell_type": "markdown",
   "metadata": {},
   "source": [
    "1) choose the subjects whose 'performerRelation' is patient;  \n",
    "2) calculate the subjects' age based on their birth year and select the subjects older than 18;  \n",
    "3) I want to analyze the data collected by CAMS measurement. So I need to select the columns that are related to CAMS measurement as well as columns about relevant demographics;  \n",
    "4) There are some badly-formatted values, which are supposed to be numeric but recorded as strings which have tow same numbers splited with ','. So I will use the `.split()` string method to extract the part before ',';  \n",
    "5) The questions in CAMS measurement are 1-7 likert-scale questions. So I will check and make sure the data for these columns are numeric. If not, I will covert the value to a float;  \n",
    "6) The names of some columns have '.' in the strings. I wil revise these columns' names."
   ]
  },
  {
   "cell_type": "markdown",
   "metadata": {},
   "source": [
    "#### 2) Make a list of the fields in your data, including their names and types. If your input file is in a fixed-width format, also give the columns where each field appears in the data. There should be a \"codebook\" provided with your data that provides these details."
   ]
  },
  {
   "cell_type": "markdown",
   "metadata": {},
   "source": [
    "Variable Name  | Position    | Type\n",
    "------------- | -------------| -------------\n",
    "questionnaireResponseId | 1 | String\n",
    "questionnaireStatus | 2 | String\n",
    "subjectGender | 3 | String\n",
    "subjectBirthYear | 4 | Numeric\n",
    "subjectMirahId | 5 | String\n",
    "appointmentDate | 6 | String\n",
    "begunDate | 7 | String\n",
    "completionDate | 8 | String\n",
    "performerRelation | 9 | String\n",
    "alliance.raw | 14 | String\n",
    "attachment.raw | 15 | String\n",
    "avoidance.raw | 16 | Numeric\n",
    "connectedness.raw | 17 | Numeric\n",
    "emotionalDistance.raw | 18 | Numeric\n",
    "eating.raw | 19 | Numeric\n",
    "expressedTherapyNeeds.raw | 20 | Numeric\n",
    "demoralization.raw | 21 | Numeric\n",
    "hypervigilance.raw | 22 | Numeric\n",
    "medicationThoughts.raw | 23 | Numeric\n",
    "negativeAffect.raw | 24 | Numeric\n",
    "perfectionism.raw | 25 | Numeric\n",
    "psychosis.raw | 26 | Numeric\n",
    "relationalDistress.raw | 27 | Numeric\n",
    "resilience.raw | 28 | Numeric\n",
    "hurtfulRumination.raw | 29 | Numeric\n",
    "socialRole.raw | 30 | Numeric\n",
    "somaticAnxiety.raw | 31 | Numeric\n",
    "substanceUse.raw | 32 | Numeric\n",
    "suicideRisk.raw | 33 | Numeric\n",
    "understandTreatmentHelp | 110 | Numeric\n",
    "  therapistUnderstandsMe | 111 | Numeric\n",
    "  therapistAcceptsAsPerson | 112 | Numeric\n",
    "  understandPathToGetBetter | 113 | Numeric\n",
    "  canFormStrongAttachments | 115 | Numeric\n",
    "  easyToCareAboutOthers | 116 | String\n",
    "  avoidPlacesOrExperiences | 119 | String\n",
    "  doEverythingToAvoidSomething | 120 | String\n",
    "  tryToAvoidSomeEmotions | 121 | String\n",
    "  discomfortPrefersAlone | 122 | String\n",
    "  workToAvoidPainfulThoughts | 123 | Numeric\n",
    "  goodFriendsKnowMe | 124 | Numeric\n",
    "  satisfiedWithSexLife | 126 | String\n",
    "  easyHonestyWithFriends | 129 | String\n",
    "  zoneOutIntenseMoments | 130 | String\n",
    "  outsideBodyDuringStressEvents | 131 | String\n",
    "  effortReadingAndPlanningFood | 132 | Numeric\n",
    "  importantToControlEating | 133 | String\n",
    "  fearLosingFoodControl | 134 | Numeric\n",
    "  eatingRestrictsSocial | 135 | String \n",
    "  therapistTechniqueExerciseQuantity | 137 | String\n",
    "  therapistHumorFormalQuantity | 138 | Numeric\n",
    "  therapistFeelingCognitionFocus | 139 | String\n",
    "  focusOnTherapistRelationship | 140 | Numeric\n",
    "  everythingTooMuchToHandle | 141 | String\n",
    "  givenUpHopeForFuture | 144 | String\n",
    "  havePeopleForSupport | 146 | String\n",
    "  alwaysPreparedForBad | 147 | String\n",
    "  effortEvaluatingSafety | 148 | String\n",
    "  feelSafeInHome | 149 | Numeric \n",
    "  easyToTrustPeopleIMeet | 150 | String\n",
    "  wantToDiscussMedicationConcern | 151 | String\n",
    "  feelMyMedicationHelps | 152 | String\n",
    "  feelingDepressed | 153 | String\n",
    "  hurtSelfPurposely | 154 | String\n",
    "  mostTimesFeel | 157 | String\n",
    "  trappedAndUncertain | 159 | String\n",
    "  alwaysNeedControl | 160 | String\n",
    "  worryAboutRightInteferes | 161 | String\n",
    "  feelStartCryingNeverStop | 162 | String\n",
    "  repeatBehaviorsForAnxiety | 163 | String\n",
    "  excessWorryAboutSloppy | 164 | String\n",
    "  hardToAllowOthersControl | 165 | String\n",
    "  feelSecretOrgWatching | 167 | String\n",
    "  worriedPeopleHearMyThoughts | 168 | String\n",
    "  noOneUndestandsGivenUp | 169 | String\n",
    "  easilyAnnoyedByOthers | 170 | String\n",
    "  conflictInRelationships | 171 | String\n",
    "  fewerProblemsWithoutOthers | 172 | String\n",
    "  relationshipsCauseStress | 173 | String\n",
    "  feelAloneWithOthers | 174 | String\n",
    "  canCommunicateWhatIsImportant | 175 | String\n",
    "  feelThingsWillImprove | 176 | String\n",
    "  enjoyJobSchool | 179 | String\n",
    "  likeWhoIam | 180 | String\n",
    "  discomfortSeekingHelp | 181 | String\n",
    "  enoughSleepRested | 182 | String\n",
    "  comfortableSharingEmotions | 183 | String\n",
    "  cantStopWorrying | 184 | String\n",
    "  constantlySelfCriticize | 186 | String\n",
    "  iAmWorthless | 187 | String\n",
    "  needToRuminateLess | 188 | String\n",
    "  communityValuesMe | 189 | Numeric\n",
    "  matterToCommunity | 190 | String\n",
    "  goodAtRelaxing | 191 | String\n",
    "  feelGoodAboutAmountOfWork | 192 | String\n",
    "  mostlyRestlessUneasy | 193 | String\n",
    "  afraidDontKnowWhy | 194 | String\n",
    "  stomachDigestionDifficulties | 195 | String\n",
    "  bodyTenseAndHurts | 196 | String\n",
    "  fearHealthBodyWrong | 197 | String\n",
    "  breathRacingOrNumbness | 198 | String\n",
    "  concernedDrugDependent | 199 | String\n",
    "  othersConcernedDrugUse | 200 | String\n",
    "  drugUseInterferes | 201 | String\n",
    "  needToReduceDrugUse | 202 | String\n",
    "  betterOffDead | 203 | String\n",
    "  thoughtsOfSuicide | 204 | String\n",
    "  fearLoseControlSuicide | 205 | String\n",
    "  plansForHowSuicide | 206 | String\n",
    "  phq9littleInterestPleasure| 300 | Numeric\n",
    "   phq9DownDepressedHopeless|301|Numeric\n",
    "   phq9TroubleSleeping |302| Numeric\n",
    "   phq9feelingTired | 303 | Numeric\n",
    "   phq9appetiteOvereating | 304 | Numeric\n",
    "   phq9feelingBadAboutSelf | 305 | Numeric\n",
    "   phq9troubleConcentrating | 306 | Numeric\n",
    "   phq9movingQuicklySlowly | 307 | Numeric\n",
    "   phq9problemImpact | 309 | String\n",
    "   \n",
    "   \n",
    "   \n",
    "   \n",
    "   \n",
    "   \n",
    "   \n",
    "\n",
    " "
   ]
  },
  {
   "cell_type": "markdown",
   "metadata": {},
   "source": [
    "#### 3) List at least 3 questions you hope to be able to answer by analyzing your data."
   ]
  },
  {
   "cell_type": "markdown",
   "metadata": {},
   "source": [
    "1) Do people with hgher levels of anxiety have more concerns on their substance use?  \n",
    "2) Does patients' feedbacks correlate to their diagnosis over time?  \n",
    "3) Can we forecast suidical risk by analyzing the data from the measurement?  "
   ]
  },
  {
   "cell_type": "markdown",
   "metadata": {},
   "source": [
    "**Finally,** run the next two blocks."
   ]
  },
  {
   "cell_type": "code",
   "execution_count": 1,
   "metadata": {},
   "outputs": [
    {
     "data": {
      "text/plain": [
       "'1.2.0'"
      ]
     },
     "execution_count": 1,
     "metadata": {},
     "output_type": "execute_result"
    }
   ],
   "source": [
    "import xlrd\n",
    "xlrd.__version__"
   ]
  },
  {
   "cell_type": "code",
   "execution_count": 2,
   "metadata": {},
   "outputs": [
    {
     "data": {
      "text/plain": [
       "'2.6.2'"
      ]
     },
     "execution_count": 2,
     "metadata": {},
     "output_type": "execute_result"
    }
   ],
   "source": [
    "import openpyxl\n",
    "openpyxl.__version__"
   ]
  },
  {
   "cell_type": "code",
   "execution_count": null,
   "metadata": {},
   "outputs": [],
   "source": []
  },
  {
   "cell_type": "markdown",
   "metadata": {},
   "source": [
    "#### Submitting\n",
    "\n",
    "In the Terminal (Mac) or Git Bash (Windows):\n",
    "\n",
    "`git commit -a -m 'Assignment 3 completed'`  \n",
    "`git push`"
   ]
  },
  {
   "cell_type": "markdown",
   "metadata": {},
   "source": [
    "### Reading\n",
    "\n",
    "1. [RegexOne](https://regexone.com/): Lessons 1 through 10, and the [Python Reference](https://regexone.com/references/python)\n",
    "2. [10 Minutes to Pandas](https://pandas.pydata.org/pandas-docs/stable/getting_started/10min.html)\n",
    "3. [_Python for Data Analysis_](https://uri-primo.hosted.exlibrisgroup.com/permalink/f/10nopmq/01URI_ALMA51209454630002396):\n",
    "    * Section 1.3, \"Essential Python Libraries\"\n",
    "    * Chapter 5, \"Getting Started with `pandas`\"\n",
    "    * Sections 6.1, \"Reading and Writing Data in Text Format\" and 6.2, \"Binary Data Formats\""
   ]
  }
 ],
 "metadata": {
  "kernelspec": {
   "display_name": "Python 3",
   "language": "python",
   "name": "python3"
  },
  "language_info": {
   "codemirror_mode": {
    "name": "ipython",
    "version": 3
   },
   "file_extension": ".py",
   "mimetype": "text/x-python",
   "name": "python",
   "nbconvert_exporter": "python",
   "pygments_lexer": "ipython3",
   "version": "3.7.3"
  }
 },
 "nbformat": 4,
 "nbformat_minor": 2
}
